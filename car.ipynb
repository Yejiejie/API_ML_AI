{
 "cells": [
  {
   "cell_type": "code",
   "execution_count": 27,
   "metadata": {
    "collapsed": false
   },
   "outputs": [],
   "source": [
    "from aip import AipImageClassify\n",
    "\n",
    "\"\"\" 你的 APPID AK SK \"\"\"\n",
    "APP_ID = '15106563'\n",
    "API_KEY = '1w9GOqEVq4dcke2KxDEEaGfv'\n",
    "SECRET_KEY = 'QsGBB6PLUkBGOl8tYAGfEsKFqOwpnwhB'\n",
    "\n",
    "client = AipImageClassify(APP_ID, API_KEY, SECRET_KEY)\n",
    "\n"
   ]
  },
  {
   "cell_type": "markdown",
   "metadata": {},
   "source": [
    "![](https://timgsa.baidu.com/timg?image&quality=80&size=b9999_10000&sec=1545000167102&di=ec2782b3d1b3780aa32343ac2d419ab1&imgtype=0&src=http%3A%2F%2Fpic15.photophoto.cn%2F20100528%2F0038038074083469_b.jpg)"
   ]
  },
  {
   "cell_type": "code",
   "execution_count": 32,
   "metadata": {
    "collapsed": false
   },
   "outputs": [
    {
     "data": {
      "text/plain": [
       "{'color_result': '红色',\n",
       " 'location_result': {'height': 525, 'left': 137, 'top': 110, 'width': 738},\n",
       " 'log_id': 8564743056752887064,\n",
       " 'result': [{'baike_info': {'baike_url': 'http://baike.baidu.com/item/%E5%A5%A5%E8%BF%AATT/10761696',\n",
       "    'description': '奥迪TT是奥迪公司开发的一款跑车，1998年首次上市。作为运动型轿车，TT型以它几乎和概念车版相同的漂亮外形，出色的性能在市场上取得了很大的成功。奥迪TT第一代早期的车型有车主抱怨高速转弯不稳定并发生车祸，Audi调整TT的悬吊系统并在车尾加上后扰流板，使Audi TT的车尾上扬力在时速125英哩时从148磅大幅减为53磅，低于同时期同时速下BMW Z3 Coupe的64磅车尾上扬力和保时捷Boxster的68磅，奔驰SLK的104磅。',\n",
       "    'image_url': 'http://imgsrc.baidu.com/baike/pic/item/d53f8794a4c27d1e59fe34bd16d5ad6edcc438ea.jpg'},\n",
       "   'name': '奥迪TT',\n",
       "   'score': 0.99965369701385,\n",
       "   'year': '2004-2017'}]}"
      ]
     },
     "execution_count": 32,
     "metadata": {},
     "output_type": "execute_result"
    }
   ],
   "source": [
    "def get_file_content(filePath):\n",
    "    with open(filePath, 'rb') as fp:\n",
    "        return fp.read()\n",
    "\n",
    "image = get_file_content('car.jpg')\n",
    "\n",
    "client.carDetect(image);\n",
    "options = {}\n",
    "options[\"top_num\"] = 1\n",
    "options[\"baike_num\"] = 1\n",
    "client.carDetect(image, options)"
   ]
  },
  {
   "cell_type": "code",
   "execution_count": 33,
   "metadata": {
    "collapsed": false
   },
   "outputs": [
    {
     "data": {
      "text/plain": [
       "{'log_id': 470492055133669240,\n",
       " 'result': [{'location': {'height': 39, 'left': 454, 'top': 382, 'width': 126},\n",
       "   'name': '奥迪',\n",
       "   'probability': 0.99995678663254,\n",
       "   'type': 0}],\n",
       " 'result_num': 1}"
      ]
     },
     "execution_count": 33,
     "metadata": {},
     "output_type": "execute_result"
    }
   ],
   "source": [
    "client.logoSearch(image);\n",
    "options = {}\n",
    "options[\"custom_lib\"] = \"false\"\n",
    "client.logoSearch(image, options)"
   ]
  },
  {
   "cell_type": "code",
   "execution_count": null,
   "metadata": {
    "collapsed": true
   },
   "outputs": [],
   "source": [
    "\n"
   ]
  }
 ],
 "metadata": {
  "kernelspec": {
   "display_name": "Python 3",
   "language": "python",
   "name": "python3"
  },
  "language_info": {
   "codemirror_mode": {
    "name": "ipython",
    "version": 3
   },
   "file_extension": ".py",
   "mimetype": "text/x-python",
   "name": "python",
   "nbconvert_exporter": "python",
   "pygments_lexer": "ipython3",
   "version": "3.6.0"
  }
 },
 "nbformat": 4,
 "nbformat_minor": 2
}
